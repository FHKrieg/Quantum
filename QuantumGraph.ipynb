{
 "cells": [
  {
   "cell_type": "code",
   "execution_count": 229,
   "source": [
    "################################################################################################################################################################################\n",
    "#   \n",
    "#   Evaluation of the MSE depending on the two weights\n",
    "#   Author: Vincent Krieg\n",
    "#   \n",
    "#   Ziel\n",
    "#       Why the optimizer needs a very small step in order to work?\n",
    "#       Why is this data combination of quality and wine so difficult?\n",
    "#\n",
    "#\n",
    "################################################################################################################################################################################"
   ],
   "outputs": [],
   "metadata": {}
  },
  {
   "cell_type": "code",
   "execution_count": 1,
   "source": [
    "###############################################################################    Import     ##################################################################################\n",
    "%matplotlib qt\n",
    "import matplotlib.pyplot as plt\n",
    "import pandas as pd\n",
    "import numpy as np\n",
    "import seaborn as sns"
   ],
   "outputs": [],
   "metadata": {}
  },
  {
   "cell_type": "code",
   "execution_count": 2,
   "source": [
    "############################################################################### Data-Import and Cleaning    ####################################################################\n",
    "#Import the dataset and bring it in the correct form\n",
    "red_wine_raw = np.genfromtxt(\"datasets/winequality-red.csv\",delimiter = \";\")\n",
    "red_wine_raw = np.delete(red_wine_raw,0,0)\n",
    "y_data = red_wine_raw[:,11]\n",
    "x = red_wine_raw[:,10]\n",
    "init_weights = [-3.0, 100.0]\n",
    "weights = init_weights"
   ],
   "outputs": [],
   "metadata": {}
  },
  {
   "cell_type": "code",
   "execution_count": 3,
   "source": [
    "###############################################################################    Evaluation     ##############################################################################\n",
    "#Functions that are needed to calculate the cost factor for the regression                      \n",
    "def y_prediction(weights):\n",
    "    return weights[0] * x + weights[1]\n",
    "\n",
    "                      \n",
    "def cost(weights):\n",
    "    y_prediction2 = y_prediction(weights)\n",
    "    mse = np.sqrt(np.mean((y_data - y_prediction2) ** 2))\n",
    "    return mse"
   ],
   "outputs": [],
   "metadata": {}
  },
  {
   "cell_type": "code",
   "execution_count": 4,
   "source": [
    "#create the lists witht the parameters to get an overview over the esential form \n",
    "\n",
    "w3 = []\n",
    "y3 = []\n",
    "z3 = []\n",
    "for m in range(-100,100,2):\n",
    "    for b in range(-20,20,1):\n",
    "        weights[0] = m/10\n",
    "        weights[1] = b\n",
    "        mse = cost(weights)\n",
    "        #Filter to only take values with a Mean squared Error of less than 5\n",
    "        if mse < 5:\n",
    "            w3.append(weights[0])\n",
    "            y3.append(weights[1])\n",
    "            z3.append(mse)"
   ],
   "outputs": [],
   "metadata": {}
  },
  {
   "cell_type": "code",
   "execution_count": 5,
   "source": [
    "#define style for the plot\n",
    "sns.set_style(\"whitegrid\", {'axes.grid' : False})\n",
    "\n",
    "#basic set up for the plot\n",
    "fig3 = plt.figure(figsize=(6,6),dpi=100)\n",
    "fig3.figure.set_size_inches(6,6)\n",
    "ax = fig3.add_subplot(111, projection='3d')\n",
    "\n",
    "#fill the values in the plot and define the values\n",
    "ax.scatter(w3, y3, z3, c=z3, marker='o')\n",
    "ax.set_xlabel('weight m')\n",
    "ax.set_ylabel('weight b')\n",
    "ax.set_zlabel('MSE')\n",
    "plt.show()"
   ],
   "outputs": [
    {
     "output_type": "stream",
     "name": "stderr",
     "text": [
      "qt.qpa.drawing: Layer-backing can not be explicitly controlled on 10.14 when built against the 10.14 SDK\n"
     ]
    }
   ],
   "metadata": {}
  },
  {
   "cell_type": "code",
   "execution_count": 6,
   "source": [
    "#create the lists witht the parameters to get an refined view over the esential form \n",
    "w = []\n",
    "y = []\n",
    "z = []\n",
    "for m in range(-1000,2000,1):\n",
    "    for b in range(-150,100,2):\n",
    "        weights[0] = m/1000\n",
    "        weights[1] = b/10\n",
    "        mse = cost(weights)\n",
    "        #Filter to only take values with a Mean squared Error of less than 0.8\n",
    "        if mse<0.8:\n",
    "            w.append(weights[0])\n",
    "            y.append(weights[1])\n",
    "            z.append(mse)\n",
    "        \n",
    "     "
   ],
   "outputs": [],
   "metadata": {}
  },
  {
   "cell_type": "code",
   "execution_count": 7,
   "source": [
    "#basic set up for the plot layout\n",
    "fig = plt.figure(figsize=(6,6),dpi=100)\n",
    "fig.figure.set_size_inches(6,6)\n",
    "ax = fig.add_subplot(111, projection='3d') \n",
    "\n",
    "#add values for the plot \n",
    "ax.scatter(w, y, z, c=z, marker='o')\n",
    "ax.set_xlabel('weight m')\n",
    "ax.set_ylabel('weight b')\n",
    "ax.set_zlabel('MSE')\n",
    "plt.show()"
   ],
   "outputs": [],
   "metadata": {}
  },
  {
   "cell_type": "code",
   "execution_count": 8,
   "source": [
    "#create the lists witht the parameters to get an even more refined view over the esential form \n",
    "w2 = []\n",
    "y2 = []\n",
    "z2 = []\n",
    "for m in range(0,50000,20):\n",
    "    for b in range(150,200,1):\n",
    "        weights[0] = m/10000\n",
    "        weights[1] = b/100\n",
    "        mse = cost(weights)\n",
    "        #Filter to only take values with a Mean squared Error of less than 0.74\n",
    "        if mse<0.74:\n",
    "            w2.append(weights[0])\n",
    "            y2.append(weights[1])\n",
    "            z2.append(mse)"
   ],
   "outputs": [],
   "metadata": {}
  },
  {
   "cell_type": "code",
   "execution_count": 9,
   "source": [
    "#basic set up for the plot layout\n",
    "fig2 = plt.figure(figsize=(6,6),dpi=100)\n",
    "fig2.figure.set_size_inches(6,6)\n",
    "ax = fig2.add_subplot(111, projection='3d')\n",
    "\n",
    "\n",
    "#add values for the plot \n",
    "ax.scatter(w2, y2, z2, c=z2, marker='o')\n",
    "ax.set_xlabel('weight m ')\n",
    "ax.set_ylabel('weight b ')\n",
    "ax.set_zlabel('MSE')\n",
    "\n",
    "plt.show()"
   ],
   "outputs": [
    {
     "output_type": "stream",
     "name": "stderr",
     "text": [
      "qt.qpa.backingstore: Back buffer dpr of 1 doesn't match <_NSViewBackingLayer: 0x7fbb92ca1e60> contents scale of 2 - updating layer to match.\n",
      "qt.qpa.backingstore: Back buffer dpr of 1 doesn't match <_NSViewBackingLayer: 0x7fbb93ac9b60> contents scale of 2 - updating layer to match.\n",
      "qt.qpa.backingstore: Back buffer dpr of 1 doesn't match <_NSViewBackingLayer: 0x7fbb954787c0> contents scale of 2 - updating layer to match.\n",
      "qt.qpa.backingstore: Back buffer dpr of 2 doesn't match <_NSViewBackingLayer: 0x7fbb954787c0> contents scale of 1 - updating layer to match.\n",
      "qt.qpa.backingstore: Back buffer dpr of 2 doesn't match <_NSViewBackingLayer: 0x7fbb93ac9b60> contents scale of 1 - updating layer to match.\n",
      "qt.qpa.backingstore: Back buffer dpr of 2 doesn't match <_NSViewBackingLayer: 0x7fbb92ca1e60> contents scale of 1 - updating layer to match.\n"
     ]
    }
   ],
   "metadata": {}
  },
  {
   "cell_type": "code",
   "execution_count": 239,
   "source": [
    "\n",
    "#normalize the data by the mean\n",
    "x = x*1000\n",
    "#y_data = np.mean(y_data)"
   ],
   "outputs": [],
   "metadata": {}
  },
  {
   "cell_type": "code",
   "execution_count": 252,
   "source": [
    "#create the lists witht the normalized parameters to get an even more refined view over the esential form \n",
    "\n",
    "w2_norm = []\n",
    "y2_norm = []\n",
    "z2_norm = []\n",
    "for m in range(-3000,6000,100):\n",
    "    for b in range(-15000,15000,100):\n",
    "        weights[0] = m/10\n",
    "        weights[1] = b/10\n",
    "        mse = cost(weights)\n",
    "        if mse < 10:\n",
    "            w2_norm.append(weights[0])\n",
    "            y2_norm.append(weights[1])\n",
    "            z2_norm.append(mse)\n",
    "\n",
    "            "
   ],
   "outputs": [],
   "metadata": {}
  },
  {
   "cell_type": "code",
   "execution_count": 253,
   "source": [
    "#basic set up for the plot layout\n",
    "fig2 = plt.figure(figsize=(6,6),dpi=100)\n",
    "fig2.figure.set_size_inches(6,6)\n",
    "ax = fig2.add_subplot(111, projection='3d')\n",
    "\n",
    "\n",
    "#add values for the plot \n",
    "ax.scatter(w2_norm, y2_norm, z2_norm, c=z2_norm, marker='o')\n",
    "ax.set_xlabel('weight m ')\n",
    "ax.set_ylabel('weight b ')\n",
    "ax.set_zlabel('MSE')\n",
    "\n",
    "plt.show()"
   ],
   "outputs": [],
   "metadata": {}
  },
  {
   "cell_type": "code",
   "execution_count": null,
   "source": [],
   "outputs": [],
   "metadata": {}
  }
 ],
 "metadata": {
  "interpreter": {
   "hash": "2b5dd50372fbdf2f7819e39f728f3b9e04757dec832d3b1046d4cf0d83f4f94a"
  },
  "kernelspec": {
   "name": "python3",
   "display_name": "Python 3.9.7 64-bit (conda)"
  },
  "language_info": {
   "codemirror_mode": {
    "name": "ipython",
    "version": 3
   },
   "file_extension": ".py",
   "mimetype": "text/x-python",
   "name": "python",
   "nbconvert_exporter": "python",
   "pygments_lexer": "ipython3",
   "version": "3.9.7"
  },
  "orig_nbformat": 4
 },
 "nbformat": 4,
 "nbformat_minor": 2
}